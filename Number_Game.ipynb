{
 "cells": [
  {
   "cell_type": "code",
   "execution_count": 16,
   "id": "8597f017-b4c3-4bdb-934f-e2e17d114ed8",
   "metadata": {},
   "outputs": [
    {
     "name": "stdin",
     "output_type": "stream",
     "text": [
      "choose levels(easy/hard: hard\n",
      "guess the number 12\n"
     ]
    },
    {
     "name": "stdout",
     "output_type": "stream",
     "text": [
      "Too low!\n"
     ]
    },
    {
     "name": "stdin",
     "output_type": "stream",
     "text": [
      "guess the number 56\n"
     ]
    },
    {
     "name": "stdout",
     "output_type": "stream",
     "text": [
      "Too high!\n"
     ]
    },
    {
     "name": "stdin",
     "output_type": "stream",
     "text": [
      "guess the number 67\n"
     ]
    },
    {
     "name": "stdout",
     "output_type": "stream",
     "text": [
      "Too high!\n",
      "You lost the number was: 26\n"
     ]
    },
    {
     "name": "stdin",
     "output_type": "stream",
     "text": [
      "Do you want to play again?(Yes/No) no\n"
     ]
    },
    {
     "name": "stdout",
     "output_type": "stream",
     "text": [
      "Thanks for playing!\n",
      " your guesses- [12, 56, 67]\n"
     ]
    }
   ],
   "source": [
    "##### import random   \n",
    "while True:\n",
    "    a=random.randint(1,100)\n",
    "    attempts=0\n",
    "    max_attempts=5\n",
    "    guesses=[]\n",
    "    level=input(\"choose levels(easy/hard:\").lower()\n",
    "    if level==\"easy\":\n",
    "         max_attempts=10\n",
    "    elif level==\"hard\":\n",
    "         max_attempts=3\n",
    "    else:\n",
    "         print(\"Default attempts are 6\")\n",
    "         max_attempts=6\n",
    "    while attempts<max_attempts:\n",
    "          guess=int(input(\"guess the number\")) \n",
    "          guesses.append(guess)\n",
    "        \n",
    "          if a<guess:\n",
    "               print(\"Too high!\")\n",
    "          elif a>guess:\n",
    "                print(\"Too low!\")\n",
    "          else:\n",
    "                print(\"Congratualations\")\n",
    "                break\n",
    "          attempts+=1\n",
    "\n",
    "    if guess!=a:    \n",
    "           print(\"You lost the number was:\",a) \n",
    "    play_again=input(\"Do you want to play again?(Yes/No)\").lower()\n",
    "    if play_again!=\"yes\":\n",
    "           print(\"Thanks for playing!\\n\",\"your guesses-\",guesses)\n",
    "           break      "
   ]
  },
  {
   "cell_type": "code",
   "execution_count": null,
   "id": "9880406e-500e-44f4-9f62-3b51848996cd",
   "metadata": {},
   "outputs": [],
   "source": []
  }
 ],
 "metadata": {
  "kernelspec": {
   "display_name": "Python 3 (ipykernel)",
   "language": "python",
   "name": "python3"
  },
  "language_info": {
   "codemirror_mode": {
    "name": "ipython",
    "version": 3
   },
   "file_extension": ".py",
   "mimetype": "text/x-python",
   "name": "python",
   "nbconvert_exporter": "python",
   "pygments_lexer": "ipython3",
   "version": "3.13.3"
  }
 },
 "nbformat": 4,
 "nbformat_minor": 5
}
