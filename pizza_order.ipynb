{
 "cells": [
  {
   "cell_type": "code",
   "execution_count": 2,
   "id": "7a3b3589-e409-4996-ba7d-c122b0ae6132",
   "metadata": {},
   "outputs": [
    {
     "name": "stdin",
     "output_type": "stream",
     "text": [
      "What size pizza you want(S/M/L)?  m\n"
     ]
    },
    {
     "name": "stdout",
     "output_type": "stream",
     "text": [
      "medium pizza price is 200 rs.\n"
     ]
    },
    {
     "name": "stdin",
     "output_type": "stream",
     "text": [
      "Do you want pepperoni(Y/N)?  y\n"
     ]
    },
    {
     "name": "stdout",
     "output_type": "stream",
     "text": [
      "pepperoni price: 50rs.\n"
     ]
    },
    {
     "name": "stdin",
     "output_type": "stream",
     "text": [
      "Do you want to extra cheese(Y/N)? y\n"
     ]
    },
    {
     "name": "stdout",
     "output_type": "stream",
     "text": [
      "extra cheese price: 20rs\n",
      "your final bill is 270\n"
     ]
    }
   ],
   "source": [
    "#pizza order program\n",
    "size = input(\"What size pizza you want(S/M/L)? \")\n",
    "bill = 0\n",
    "if size==\"S\" or size==\"s\":\n",
    "    bill+=100\n",
    "    print(\"small pizza price is 100 rs.\")\n",
    "elif size=='M' or size==\"m\":\n",
    "    bill+=200\n",
    "    print(\"medium pizza price is 200 rs.\")\n",
    "else:\n",
    "    bill+=300\n",
    "    print(\"large size pizza price is 300rs.\")\n",
    "add_pepperoni = input(\"Do you want pepperoni(Y/N)? \")\n",
    "if add_pepperoni ==\"Y\" or add_pepperoni=='y':\n",
    "    if size==\"S\" or size==\"s\":\n",
    "        bill+=30\n",
    "        print(\"pepperoni price: 30rs\")\n",
    "    elif size =='M' or size =='m':\n",
    "        bill+=50\n",
    "        print(\"pepperoni price: 50rs.\")\n",
    "    else:\n",
    "        bill+=100\n",
    "        print(\"pepperoni price: 100rs.\")\n",
    "        \n",
    "extra_cheese = input(\"Do you want to extra cheese(Y/N)?\")\n",
    "if extra_cheese == \"y\" or extra_cheese==\"Y\":\n",
    "    bill+=20 \n",
    "    print(\"extra cheese price: 20rs\")\n",
    "else:\n",
    "    bill+=0\n",
    "print(f\"your final bill is {bill}\")\n",
    "    "
   ]
  },
  {
   "cell_type": "code",
   "execution_count": null,
   "id": "0da273de-246a-4b91-b131-dccb97e2bf7a",
   "metadata": {},
   "outputs": [],
   "source": []
  }
 ],
 "metadata": {
  "kernelspec": {
   "display_name": "Python 3 (ipykernel)",
   "language": "python",
   "name": "python3"
  },
  "language_info": {
   "codemirror_mode": {
    "name": "ipython",
    "version": 3
   },
   "file_extension": ".py",
   "mimetype": "text/x-python",
   "name": "python",
   "nbconvert_exporter": "python",
   "pygments_lexer": "ipython3",
   "version": "3.13.3"
  }
 },
 "nbformat": 4,
 "nbformat_minor": 5
}
